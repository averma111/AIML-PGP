{
 "cells": [
  {
   "cell_type": "markdown",
   "metadata": {
    "_uuid": "3c77d7291ae3aff7ea714d3b19d708d455de016c"
   },
   "source": [
    "We cannot work with the text data in machine learning so we need to convert them into numerical vectors, As a part of this practice exercise you will implement different techniques to do the same."
   ]
  },
  {
   "cell_type": "markdown",
   "metadata": {
    "_uuid": "4b77a3ffeea9399d8ff4ed783b11d325c8a47ba7"
   },
   "source": [
    "In this notebook we are going to understand some basic text cleaning steps and techniques for encoding text data. We are going to learn about\n",
    "1. **Understanding the data** - See what's data is all about. what should be considered for cleaning for data (Punctuations , stopwords etc..).\n",
    "2. **Basic Cleaning** -We will see what parameters need to be considered for cleaning of data (like Punctuations , stopwords etc..)  and its code.\n",
    "3. **Techniques for Encoding** - All the popular techniques that are used for encoding that I personally came across.\n",
    "    *           **Bag of Words**\n",
    "    *           **Binary Bag of Words**\n",
    "    *           **Bigram, Ngram**\n",
    "    *           **TF-IDF**( **T**erm  **F**requency - **I**nverse **D**ocument **F**requency)\n"
   ]
  },
  {
   "cell_type": "markdown",
   "metadata": {
    "_uuid": "3e9b8360f72e16b27f4ba5e353d412900fc4d5be"
   },
   "source": [
    " **Importing Libraries**"
   ]
  },
  {
   "cell_type": "code",
   "execution_count": null,
   "metadata": {
    "_cell_guid": "b1076dfc-b9ad-4769-8c92-a6c4dae69d19",
    "_uuid": "8f2839f25d086af736a60e9eeb907d3b93b6e0e5"
   },
   "outputs": [],
   "source": [
    "import numpy as np                                  #for large and multi-dimensional arrays\n",
    "import pandas as pd                                 #for data manipulation and analysis\n",
    "import nltk                                         #Natural language processing tool-kit\n",
    "\n",
    "from nltk.corpus import stopwords                   #Stopwords corpus\n",
    "from nltk.stem import PorterStemmer                 # Stemmer\n",
    "\n",
    "from sklearn.feature_extraction.text import CountVectorizer          #For Bag of words\n",
    "from sklearn.feature_extraction.text import TfidfVectorizer          #For TF-IDF"
   ]
  },
  {
   "cell_type": "code",
   "execution_count": null,
   "metadata": {
    "_cell_guid": "79c7e3d0-c299-4dcb-8224-4455121ee9b0",
    "_uuid": "d629ff2d2480ee46fbb7e2d37f6b5fab8052498a"
   },
   "outputs": [],
   "source": [
    "data_path = \"Reviews.csv\"\n",
    "data = pd.read_csv(data_path)\n",
    "data_sel = data.head(10000)                                #Considering only top 10000 rows"
   ]
  },
  {
   "cell_type": "code",
   "execution_count": null,
   "metadata": {
    "_uuid": "b861545a58f30384891126cf8a9f576db40e1a30"
   },
   "outputs": [],
   "source": [
    "# Shape of our data\n",
    "data_sel.columns"
   ]
  },
  {
   "cell_type": "markdown",
   "metadata": {
    "_uuid": "8e77faa28f4d4807e716f4bff26f8ff49c3fb2bd"
   },
   "source": [
    "1. **Understanding the data**\n",
    "\n",
    "Our main objective from the dataset is to predict whether a review is **Positive** or **Negative** based on the Text.\n",
    " \n",
    "If we see the Score column, it has values 1,2,3,4,5 .  Considering 1, 2 as Negative reviews and 4, 5 as Positive reviews.\n",
    " For Score = 3 we will consider it as Neutral review and lets delete the rows that are neutral, so that we can predict either Positive or Negative\n",
    " \n",
    "HelpfulnessNumerator says about number of people found that review usefull and HelpfulnessDenominator is about usefull review count + not so usefull count.\n",
    "So, from this we can see that HelfulnessNumerator is always less than or equal to HelpfulnesDenominator."
   ]
  },
  {
   "cell_type": "code",
   "execution_count": null,
   "metadata": {
    "_uuid": "0a77d47e68efd6859d84e6dc7c813ee5b680adaf"
   },
   "outputs": [],
   "source": [
    "# Write the code to remove all the rows from the dataset that have neutral review ie. Score value as 3\n"
   ]
  },
  {
   "cell_type": "markdown",
   "metadata": {
    "_uuid": "26eda6bf2503287bf92a5b3139fa3d7a9dd8b101"
   },
   "source": [
    "Converting Score values into class label either Positive or Negative."
   ]
  },
  {
   "cell_type": "code",
   "execution_count": null,
   "metadata": {
    "_uuid": "a2b51786e7a6da8f9ef8f66d98ccf3069540ce0e"
   },
   "outputs": [],
   "source": [
    "# Write the code to replace the values of Score column with \"positive\" or \"Negative\" depending on the Score value\n"
   ]
  },
  {
   "cell_type": "markdown",
   "metadata": {
    "_uuid": "11da101e437e715e7e900eae0daf683fa5129140"
   },
   "source": [
    "2. **Basic Cleaning**\n",
    " \n",
    "**Deduplication** means removing duplicate rows, It is necessary to remove duplicates in order to get unbaised results. Checking duplicates based on UserId, ProfileName, Time, Text. If all these values are equal then we will remove those records. (No user can type a review on same exact time for different products.)\n",
    "\n",
    "\n",
    "We have seen that HelpfulnessNumerator should always be less than or equal to HelpfulnessDenominator so checking this condition and removing those records also.\n"
   ]
  },
  {
   "cell_type": "code",
   "execution_count": null,
   "metadata": {
    "_uuid": "90a6d730b53f4b371409fff116025e2fd29ebf5a"
   },
   "outputs": [],
   "source": [
    "# Write the code to remove dulicates from the data and remove the rows where HelpfulnessNumerator is greater than \n",
    "# HelpfulnessDenominator. Store the resultant in a dataframe variable called \"final\"\n"
   ]
  },
  {
   "cell_type": "code",
   "execution_count": null,
   "metadata": {
    "_uuid": "61e8f9671ad79b0b3e5eb15953ac76e15e216e84"
   },
   "outputs": [],
   "source": [
    "final_X = final['Text']\n",
    "final_y = final['Score']"
   ]
  },
  {
   "cell_type": "markdown",
   "metadata": {
    "_uuid": "1b0ead76f4f3eeb725cdad927053df4bda1efea3"
   },
   "source": [
    "Converting all words to lowercase and removing punctuations and html tags if any\n",
    "\n",
    "**Stemming**- Converting the words into their base word or stem word ( Ex - tastefully, tasty,  these words are converted to stem word called 'tasti'). This reduces the vector dimension because we dont consider all similar words  \n",
    "\n",
    "**Stopwords** - Stopwords are the unnecessary words that even if they are removed the sentiment of the sentence dosent change.\n",
    "\n",
    "Ex -    This pasta is so tasty ==> pasta tasty    ( This , is, so are stopwords so they are removed)\n",
    "\n",
    "To see all the stopwords see the below code cell."
   ]
  },
  {
   "cell_type": "code",
   "execution_count": null,
   "metadata": {
    "_uuid": "3ab617bd0129fd68f13d2de64fc31f0395e052d8",
    "scrolled": true
   },
   "outputs": [],
   "source": [
    "stop = set(stopwords.words('english')) \n",
    "print(stop)"
   ]
  },
  {
   "cell_type": "markdown",
   "metadata": {},
   "source": [
    "For each sentence in final_X perform the following operations in sequence\n",
    "* Convert each character in a sentence to lowercase character\n",
    "* Remove HTML Tags\n",
    "* Remove punctuations\n",
    "* Remove stopwords\n",
    "* Stem each word using SnowballStemmer in nltk library\n",
    "\n",
    "Hint: \n",
    "* Use regular expressions\n",
    "* Use nltk.stem.SnowballStemmer"
   ]
  },
  {
   "cell_type": "code",
   "execution_count": null,
   "metadata": {
    "_uuid": "9a82923d71ffb9e08b70fbe21c811a487e41c72a"
   },
   "outputs": [],
   "source": [
    "# Solution\n"
   ]
  },
  {
   "cell_type": "code",
   "execution_count": null,
   "metadata": {
    "_uuid": "94dffc6951e46f0e9794dbabe3432344ed95b800"
   },
   "outputs": [],
   "source": [
    "print(final_X[1])"
   ]
  },
  {
   "cell_type": "code",
   "execution_count": null,
   "metadata": {
    "_uuid": "c9d7c746dae70cb28d489f5f239a8e1e5b46ed1b"
   },
   "outputs": [],
   "source": [
    "sent = []\n",
    "for row in final_X:\n",
    "    sequ = ''\n",
    "    for word in row:\n",
    "        sequ = sequ + ' ' + word\n",
    "    sent.append(sequ)\n",
    "\n",
    "final_X = sent\n",
    "print(final_X[1])"
   ]
  },
  {
   "cell_type": "markdown",
   "metadata": {
    "_uuid": "67431e1466aefbba119b54205893dd0dcdff9f3b"
   },
   "source": [
    "3. **Techniques for Encoding**\n",
    "\n",
    "      **BAG OF WORDS**\n",
    "      \n",
    "      In BoW we construct a dictionary that contains set of all unique words from our text review dataset.The frequency of the word is counted here. if there are **d** unique words in our dictionary then for every sentence or review the vector will be of length **d** and count of word from review is stored at its particular location in vector. The vector will be highly sparse in such case.\n",
    "      \n",
    "      Ex. pasta is tasty and pasta is good\n",
    "      \n",
    "     **[0]....[1]............[1]...........[2]..........[2]............[1]..........**             <== Its vector representation ( remaining all dots will be represented as zeroes)\n",
    "     \n",
    "     **[a]..[and].....[good].......[is].......[pasta]....[tasty].......**            <==This is dictionary\n",
    "      .\n",
    "      \n",
    "    Using scikit-learn's CountVectorizer we can get the BoW and check out all the parameters it consists of, one of them is max_features =5000 it tells about to consider only top 5000 most frequently repeated words to place in a dictionary. so our dictionary length or vector length will be only 5000\n",
    "    \n",
    "\n",
    "\n",
    "   **BINARY BAG OF WORDS**\n",
    "    \n",
    "   In binary BoW, we dont count the frequency of word, we just place **1** if the word appears in the review or else **0**. In CountVectorizer there is a parameter **binary = true** this makes our BoW to binary BoW.\n",
    "   \n",
    "  "
   ]
  },
  {
   "cell_type": "code",
   "execution_count": null,
   "metadata": {
    "_uuid": "a640c6fb9a16e4f0e271c1a101411af2d053fca3",
    "scrolled": true
   },
   "outputs": [],
   "source": [
    "# Here we use the CountVectorizer from sklearn to create bag of words\n",
    "count_vect = CountVectorizer(max_features=5000)\n",
    "bow_data = count_vect.fit_transform(final_X)\n",
    "print(bow_data[1])"
   ]
  },
  {
   "cell_type": "markdown",
   "metadata": {
    "_uuid": "da9a72410e69708650ccf3263fea6d9b1222147f"
   },
   "source": [
    " **Drawbacks of BoW/ Binary BoW**\n",
    " \n",
    " Our main objective in doing these text to vector encodings is that similar meaning text vectors should be close to each other, but in some cases this may not possible for Bow\n",
    " \n",
    "For example, if we consider two reviews **This pasta is very tasty** and **This pasta is not tasty** after stopwords removal both sentences will be converted to **pasta tasty** so both giving exact same meaning.\n",
    "\n",
    "The main problem is here we are not considering the front and back words related to every word, here comes Bigram and Ngram techniques."
   ]
  },
  {
   "cell_type": "markdown",
   "metadata": {
    "_uuid": "a8c25fa64918f9b5129ca8d424684354c29f041d"
   },
   "source": [
    "**BI-GRAM BOW**\n",
    "\n",
    "Considering pair of words for creating dictionary is Bi-Gram , Tri-Gram means three consecutive words so as NGram.\n",
    "\n",
    "CountVectorizer has a parameter **ngram_range** if assigned to (1,2) it considers Bi-Gram BoW\n",
    "\n",
    "But this massively increases our dictionary size "
   ]
  },
  {
   "cell_type": "code",
   "execution_count": null,
   "metadata": {
    "_uuid": "3bc1a606a42d4e333baa3c62d5a7e5953db28cd9"
   },
   "outputs": [],
   "source": [
    "final_B_X = final_X"
   ]
  },
  {
   "cell_type": "code",
   "execution_count": null,
   "metadata": {
    "_uuid": "646f10e703dca9daf8a0cca2b5c23f0a21d4ccec"
   },
   "outputs": [],
   "source": [
    "count_vect = CountVectorizer(ngram_range=(1,2))\n",
    "Bigram_data = count_vect.fit_transform(final_B_X)\n",
    "print(Bigram_data[1])"
   ]
  },
  {
   "cell_type": "markdown",
   "metadata": {
    "_uuid": "3d29a0749cc26757d3f311cadee7dfdd97aa7c76"
   },
   "source": [
    "**TF-IDF**\n",
    "\n",
    "**Term Frequency -  Inverse Document Frequency** it makes sure that less importance is given to most frequent words and also considers less frequent words.\n",
    "\n",
    "**Term Frequency** is number of times a **particular word(W)** occurs in a review divided by totall number of words **(Wr)** in review. The term frequency value ranges from 0 to 1.\n",
    "\n",
    "**Inverse Document Frequency** is calculated as **log(Total Number of Docs(N) / Number of Docs which contains particular word(n))**. Here Docs referred as Reviews.\n",
    "\n",
    "\n",
    "**TF-IDF** is **TF * IDF** that is **(W/Wr)*LOG(N/n)**\n",
    "\n",
    "\n",
    " Using scikit-learn's tfidfVectorizer we can get the TF-IDF.\n",
    "\n",
    "So even here we get a TF-IDF value for every word and in some cases it may consider different meaning reviews as similar after stopwords removal. so to over come we can use BI-Gram or NGram."
   ]
  },
  {
   "cell_type": "code",
   "execution_count": null,
   "metadata": {
    "_uuid": "b1870137f2b5f4f0e97eaa0b8812cae83c53ed21"
   },
   "outputs": [],
   "source": [
    "final_tf = final_X\n",
    "tf_idf = TfidfVectorizer(max_features=5000)\n",
    "tf_data = tf_idf.fit_transform(final_tf)\n",
    "print(tf_data[1])"
   ]
  },
  {
   "cell_type": "code",
   "execution_count": null,
   "metadata": {},
   "outputs": [],
   "source": []
  }
 ],
 "metadata": {
  "kernelspec": {
   "display_name": "Python 3",
   "language": "python",
   "name": "python3"
  },
  "language_info": {
   "codemirror_mode": {
    "name": "ipython",
    "version": 3
   },
   "file_extension": ".py",
   "mimetype": "text/x-python",
   "name": "python",
   "nbconvert_exporter": "python",
   "pygments_lexer": "ipython3",
   "version": "3.6.5"
  }
 },
 "nbformat": 4,
 "nbformat_minor": 1
}
