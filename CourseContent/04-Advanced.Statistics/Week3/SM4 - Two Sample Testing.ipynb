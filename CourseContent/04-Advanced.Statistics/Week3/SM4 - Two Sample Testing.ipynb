{
 "cells": [
  {
   "cell_type": "markdown",
   "metadata": {},
   "source": [
    "# Two Sample Testing"
   ]
  },
  {
   "cell_type": "code",
   "execution_count": 1,
   "metadata": {},
   "outputs": [],
   "source": [
    "import numpy as np\n",
    "from scipy.stats import ttest_1samp, ttest_ind,mannwhitneyu,levene,shapiro,wilcoxon\n",
    "from statsmodels.stats.power import ttest_power\n",
    "import pandas as pd"
   ]
  },
  {
   "cell_type": "markdown",
   "metadata": {},
   "source": [
    "### Independent samples"
   ]
  },
  {
   "cell_type": "code",
   "execution_count": 2,
   "metadata": {},
   "outputs": [],
   "source": [
    "weight = np.array([\n",
    "# sugar consumption in grams and stature (0=diabetic, 1=non diabetic)\n",
    "[9.31, 0],\n",
    "[7.76, 0],\n",
    "[6.98, 1],\n",
    "[7.88, 1],\n",
    "[8.49, 1],\n",
    "[10.05, 1],\n",
    "[8.80, 1],\n",
    "[10.88, 1],\n",
    "[6.13, 1],\n",
    "[7.90, 1],\n",
    "[11.51, 0],\n",
    "[12.59, 0],\n",
    "[7.05, 1],\n",
    "[11.85, 0],\n",
    "[9.99, 0],\n",
    "[7.48, 0],\n",
    "[8.79, 0],\n",
    "[8.69, 1],\n",
    "[9.68, 0],\n",
    "[8.58, 1],\n",
    "[9.19, 0],\n",
    "[8.11, 1]])"
   ]
  },
  {
   "cell_type": "markdown",
   "metadata": {},
   "source": [
    "The above dataset contains 2 samples from 2 different population - Diabetic and Non-Diabetic. And these 2 population are independent of each other. Hence we apply unpaired test on this dataset spliting it into 2 samples (Diabetic and Non-Diabetic)\n",
    "\n",
    "Diabetic - [9.31, 7.76, 11.51, 12.59, 11.85, 9.99, 7.48, 8.79, 9.68, 9.19]\n",
    "\n",
    "Non-Diabetic - [6.98, 7.88, 8.49, 10.05, 8.8, 10.88, 6.13, 7.9, 7.05, 8.69, 8.58, 8.11]"
   ]
  },
  {
   "cell_type": "code",
   "execution_count": 3,
   "metadata": {
    "scrolled": true
   },
   "outputs": [
    {
     "data": {
      "text/plain": [
       "(array([ 9.31,  7.76, 11.51, 12.59, 11.85,  9.99,  7.48,  8.79,  9.68,\n",
       "         9.19]),\n",
       " array([ 6.98,  7.88,  8.49, 10.05,  8.8 , 10.88,  6.13,  7.9 ,  7.05,\n",
       "         8.69,  8.58,  8.11]))"
      ]
     },
     "execution_count": 3,
     "metadata": {},
     "output_type": "execute_result"
    }
   ],
   "source": [
    "diabetic = weight[weight[:,1]==0][:,0]\n",
    "non_diabetic = weight[weight[:,1]==1][:,0]\n",
    "diabetic, non_diabetic"
   ]
  },
  {
   "cell_type": "markdown",
   "metadata": {},
   "source": [
    "**Formulate the Hypothesis**\n",
    "\n",
    "H<sub>0</sub> : &mu;<sub>1</sub> = &mu;<sub>2</sub> (&mu;<sub>1</sub> - &mu;<sub>2</sub> = 0)<br/>\n",
    "H<sub>a</sub> : &mu;<sub>1</sub> $\\neq$ &mu;<sub>2</sub> (&mu;<sub>1</sub> < &mu;<sub>2</sub>, &mu;<sub>1</sub> > &mu;<sub>2</sub>)<br/>\n",
    "This test assumes the variances are equal among the two diff samples\n"
   ]
  },
  {
   "cell_type": "code",
   "execution_count": 4,
   "metadata": {},
   "outputs": [
    {
     "data": {
      "text/plain": [
       "Ttest_indResult(statistic=2.3730593333971224, pvalue=0.02777741611352253)"
      ]
     },
     "execution_count": 4,
     "metadata": {},
     "output_type": "execute_result"
    }
   ],
   "source": [
    "# ttest_ind is used for parametric unpaired samples\n",
    "ttest_ind(diabetic, non_diabetic)"
   ]
  },
  {
   "cell_type": "markdown",
   "metadata": {},
   "source": [
    "p_value < 0.05 (significance level). Hence we reject the null hypothesis. We have sufficient evidence to accept the alternative hypothesis"
   ]
  },
  {
   "cell_type": "code",
   "execution_count": 5,
   "metadata": {},
   "outputs": [
    {
     "data": {
      "text/plain": [
       "MannwhitneyuResult(statistic=29.0, pvalue=0.022156896141583025)"
      ]
     },
     "execution_count": 5,
     "metadata": {},
     "output_type": "execute_result"
    }
   ],
   "source": [
    "# mannwhitneyu is used for non-parametric unpaired samples\n",
    "mannwhitneyu(diabetic, non_diabetic)"
   ]
  },
  {
   "cell_type": "markdown",
   "metadata": {},
   "source": [
    "p_value < 0.05 (significance level). Hence we reject the null hypothesis. We have sufficient evidence to accept the alternative hypothesis"
   ]
  },
  {
   "cell_type": "markdown",
   "metadata": {},
   "source": [
    "### Dependent Samples"
   ]
  },
  {
   "cell_type": "code",
   "execution_count": 6,
   "metadata": {},
   "outputs": [],
   "source": [
    "# pre and post-Exercise food energy intake\n",
    "intake = np.array([\n",
    "[5460, 3980],\n",
    "[5230, 4890],\n",
    "[5640, 3885],\n",
    "[6180, 5160],\n",
    "[6390, 5645],\n",
    "[6512, 4650],\n",
    "[6765, 6109],\n",
    "[7515, 5975],\n",
    "[7515, 6790],\n",
    "[8230, 6970],\n",
    "[8770, 7335],\n",
    "])"
   ]
  },
  {
   "cell_type": "markdown",
   "metadata": {},
   "source": [
    "The above intake dataset contains 2 samples (pre, post) derived from a single population. And these 2 samples are dependent on eachother. Hence we apply paired test on this dataset."
   ]
  },
  {
   "cell_type": "code",
   "execution_count": 7,
   "metadata": {},
   "outputs": [],
   "source": [
    "pre = intake[:,0]\n",
    "post = intake[:,1]"
   ]
  },
  {
   "cell_type": "markdown",
   "metadata": {},
   "source": [
    "**Formulate the Hypothesis**\n",
    "\n",
    "H<sub>0</sub> : &mu;<sub>1</sub> = &mu;<sub>2</sub> (&mu;<sub>1</sub> - &mu;<sub>2</sub> = 0)<br/>\n",
    "H<sub>a</sub> : &mu;<sub>1</sub> $\\neq$ &mu;<sub>2</sub> (&mu;<sub>1</sub> < &mu;<sub>2</sub>, &mu;<sub>1</sub> > &mu;<sub>2</sub>)<br/>\n",
    "This test assumes the variances are equal among the two diff samples\n"
   ]
  },
  {
   "cell_type": "code",
   "execution_count": 8,
   "metadata": {},
   "outputs": [
    {
     "data": {
      "text/plain": [
       "Ttest_1sampResult(statistic=-7.750633257827653, pvalue=1.552189414812135e-05)"
      ]
     },
     "execution_count": 8,
     "metadata": {},
     "output_type": "execute_result"
    }
   ],
   "source": [
    "# For paired t-test of parametric samples\n",
    "ttest_1samp(post-pre, popmean=0)\n",
    "\n",
    "# we consider both the smaple means are equal. Hence difference in popmean is zero"
   ]
  },
  {
   "cell_type": "code",
   "execution_count": 9,
   "metadata": {},
   "outputs": [
    {
     "data": {
      "text/plain": [
       "WilcoxonResult(statistic=0.0, pvalue=0.0033456181158508813)"
      ]
     },
     "execution_count": 9,
     "metadata": {},
     "output_type": "execute_result"
    }
   ],
   "source": [
    "# For paired t-test of non-parametric samples\n",
    "wilcoxon(post-pre)"
   ]
  },
  {
   "cell_type": "markdown",
   "metadata": {},
   "source": [
    "Both the parametric and non-parametric tests for this paired sample suggests that we need to reject the Null Hypothesis and embrace the Alternate Hypothesis"
   ]
  },
  {
   "cell_type": "markdown",
   "metadata": {},
   "source": [
    "### Test for the variances\n",
    "H<sub>0</sub> = The variances of both the samples are equal<br/>\n",
    "H<sub>a</sub> = The variances are not equal"
   ]
  },
  {
   "cell_type": "code",
   "execution_count": 10,
   "metadata": {},
   "outputs": [
    {
     "data": {
      "text/plain": [
       "LeveneResult(statistic=0.7778908507126596, pvalue=0.3882644756901812)"
      ]
     },
     "execution_count": 10,
     "metadata": {},
     "output_type": "execute_result"
    }
   ],
   "source": [
    "levene(diabetic,non_diabetic)"
   ]
  },
  {
   "cell_type": "code",
   "execution_count": 11,
   "metadata": {},
   "outputs": [
    {
     "data": {
      "text/plain": [
       "LeveneResult(statistic=0.05508687920155723, pvalue=0.8168231592315234)"
      ]
     },
     "execution_count": 11,
     "metadata": {},
     "output_type": "execute_result"
    }
   ],
   "source": [
    "levene(pre,post)"
   ]
  },
  {
   "cell_type": "markdown",
   "metadata": {},
   "source": [
    "The greater p_value suggests that we have to accept the null hypothesis which says that both the samples have equal variances"
   ]
  },
  {
   "cell_type": "markdown",
   "metadata": {},
   "source": [
    "### Test for the Shape of the population\n",
    "H<sub>0</sub> = The sample comes from a normal population<br/>\n",
    "H<sub>a</sub> = The sample doesn't come from a normal distribution"
   ]
  },
  {
   "cell_type": "code",
   "execution_count": 12,
   "metadata": {},
   "outputs": [
    {
     "data": {
      "text/plain": [
       "(0.946360170841217, 0.6256824731826782)"
      ]
     },
     "execution_count": 12,
     "metadata": {},
     "output_type": "execute_result"
    }
   ],
   "source": [
    "t_statistic, p_value = shapiro(diabetic)\n",
    "t_statistic, p_value"
   ]
  },
  {
   "cell_type": "code",
   "execution_count": 13,
   "metadata": {},
   "outputs": [
    {
     "data": {
      "text/plain": [
       "(0.9630682468414307, 0.826569676399231)"
      ]
     },
     "execution_count": 13,
     "metadata": {},
     "output_type": "execute_result"
    }
   ],
   "source": [
    "t_statistic, p_value = shapiro(non_diabetic)\n",
    "t_statistic, p_value"
   ]
  },
  {
   "cell_type": "code",
   "execution_count": 14,
   "metadata": {},
   "outputs": [
    {
     "data": {
      "text/plain": [
       "(0.9533762335777283, 0.6872939467430115)"
      ]
     },
     "execution_count": 14,
     "metadata": {},
     "output_type": "execute_result"
    }
   ],
   "source": [
    "t_statistic, p_value = shapiro(pre)\n",
    "t_statistic, p_value"
   ]
  },
  {
   "cell_type": "code",
   "execution_count": 15,
   "metadata": {},
   "outputs": [
    {
     "data": {
      "text/plain": [
       "(0.9546877145767212, 0.7041629552841187)"
      ]
     },
     "execution_count": 15,
     "metadata": {},
     "output_type": "execute_result"
    }
   ],
   "source": [
    "t_statistic, p_value = shapiro(post)\n",
    "t_statistic, p_value"
   ]
  },
  {
   "cell_type": "markdown",
   "metadata": {},
   "source": [
    "The greater p_value in both the cases suggests that we have to accept the null hypothesis which says that all the samples from both the dataset comes from a normal population"
   ]
  },
  {
   "cell_type": "markdown",
   "metadata": {},
   "source": [
    "### Power of the test (1-&beta;)\n",
    "To calculate the power of the test we need to calculate the delta value, which requires S<sub>pooled</sub> (Pooled Standard Deviation) to be calculated for two sampe test\n",
    "\n",
    "<img src=\"https://latex.codecogs.com/gif.latex?\\Delta&space;=&space;\\frac{\\bar{X_{1}}-\\bar{X_{2}}}{S_{pooled}}\" />\n",
    "Where\n",
    "<img src=\"https://latex.codecogs.com/gif.latex?S_{pooled}&space;=&space;\\sqrt{\\frac{\\left&space;(&space;n_{1}-1&space;\\right&space;)S_{1}^2&space;&plus;&space;\\left&space;(&space;n_{2}-1&space;\\right&space;)S_{2}^2}{\\left&space;(&space;n_{1}-1&space;\\right&space;)&plus;\\left&space;(&space;n_{2}-1&space;\\right&space;)}}\" />"
   ]
  },
  {
   "cell_type": "code",
   "execution_count": 16,
   "metadata": {},
   "outputs": [
    {
     "data": {
      "text/plain": [
       "0.7797048526975643"
      ]
     },
     "execution_count": 16,
     "metadata": {},
     "output_type": "execute_result"
    }
   ],
   "source": [
    "delta = (np.mean(pre) - np.mean(post)) / np.sqrt(((11-1)*np.var(pre) + (11-1)*np.var(post)) / 11-1+11-1)\n",
    "delta"
   ]
  },
  {
   "cell_type": "code",
   "execution_count": 17,
   "metadata": {},
   "outputs": [
    {
     "data": {
      "text/plain": [
       "0.6455643551529714"
      ]
     },
     "execution_count": 17,
     "metadata": {},
     "output_type": "execute_result"
    }
   ],
   "source": [
    "ttest_power(delta, nobs=11, alpha=0.05, alternative=\"two-sided\")"
   ]
  },
  {
   "cell_type": "markdown",
   "metadata": {},
   "source": [
    "The power of the test (1-&beta;) denotes that there is 64.5% probability we rejecting the null hypothesis while the null hypothesis is also false"
   ]
  }
 ],
 "metadata": {
  "kernelspec": {
   "display_name": "Python 3",
   "language": "python",
   "name": "python3"
  },
  "language_info": {
   "codemirror_mode": {
    "name": "ipython",
    "version": 3
   },
   "file_extension": ".py",
   "mimetype": "text/x-python",
   "name": "python",
   "nbconvert_exporter": "python",
   "pygments_lexer": "ipython3",
   "version": "3.6.5"
  }
 },
 "nbformat": 4,
 "nbformat_minor": 2
}
